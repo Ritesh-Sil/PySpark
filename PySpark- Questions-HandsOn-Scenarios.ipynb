{
 "cells": [
  {
   "cell_type": "markdown",
   "id": "dbc01ec0",
   "metadata": {},
   "source": [
    "#### Reading\n",
    "\n",
    "1. How to read dataFrame in PySpark from .csv files?\n",
    "2. How to read dataFrame in PySpark from .text files?\n",
    "3. How to read dataFrame in pySpark using delimiter?\n",
    "4. How to read dataFrame in pySpark with or wothout Header?\n",
    "5. What are different types of read modes in PySpark to deal with bad or corrupted data?\n",
    "6. How to create a schema in PySpark?\n",
    "7. How to pass the schema while reading a dataFrame?\n",
    "8. How to handle multiple delimiters in PySpark - ('~|')?\n",
    "9. How to filter out the first row in a dataframe?\n",
    "10. How to convert data frame into rdd and rdd to dataframe?\n",
    "11. How to add a column in a dataframe?\n",
    "12. How to merge Two files using PySpark?\n",
    "13. How perform join in PySpark?\n",
    "14. How to perform union of two DataFrames in pyspark?"
   ]
  },
  {
   "cell_type": "code",
   "execution_count": null,
   "id": "80881b47",
   "metadata": {},
   "outputs": [],
   "source": []
  }
 ],
 "metadata": {
  "kernelspec": {
   "display_name": "Python 3 (ipykernel)",
   "language": "python",
   "name": "python3"
  },
  "language_info": {
   "codemirror_mode": {
    "name": "ipython",
    "version": 3
   },
   "file_extension": ".py",
   "mimetype": "text/x-python",
   "name": "python",
   "nbconvert_exporter": "python",
   "pygments_lexer": "ipython3",
   "version": "3.9.12"
  }
 },
 "nbformat": 4,
 "nbformat_minor": 5
}
