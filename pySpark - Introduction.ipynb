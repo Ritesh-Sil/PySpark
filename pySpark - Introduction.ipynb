{
 "cells": [
  {
   "cell_type": "code",
   "execution_count": 1,
   "metadata": {},
   "outputs": [
    {
     "name": "stdout",
     "output_type": "stream",
     "text": [
      "Requirement already satisfied: autopep8 in c:\\users\\silri\\anaconda3\\lib\\site-packages (1.5.7)\n",
      "Requirement already satisfied: toml in c:\\users\\silri\\anaconda3\\lib\\site-packages (from autopep8) (0.10.2)\n",
      "Requirement already satisfied: pycodestyle>=2.7.0 in c:\\users\\silri\\anaconda3\\lib\\site-packages (from autopep8) (2.7.0)\n"
     ]
    }
   ],
   "source": [
    "!pip install autopep8"
   ]
  },
  {
   "cell_type": "code",
   "execution_count": 0,
   "metadata": {
    "application/vnd.databricks.v1+cell": {
     "inputWidgets": {},
     "nuid": "2cf9d16e-01e4-4436-8481-e52905784e1d",
     "showTitle": false,
     "title": ""
    },
    "scrolled": true
   },
   "outputs": [
    {
     "data": {
      "text/plain": [
       "Hello pySpark\n"
      ]
     },
     "metadata": {
      "application/vnd.databricks.v1+output": {
       "addedWidgets": {},
       "arguments": {},
       "data": "Hello pySpark\n",
       "datasetInfos": [],
       "metadata": {},
       "removedWidgets": [],
       "type": "ansi"
      }
     },
     "output_type": "display_data"
    }
   ],
   "source": [
    "print(\"Hello pySpark\")"
   ]
  },
  {
   "cell_type": "code",
   "execution_count": 0,
   "metadata": {
    "application/vnd.databricks.v1+cell": {
     "inputWidgets": {},
     "nuid": "4cb78e1f-5b50-4c8c-8fe3-c5c0e3417527",
     "showTitle": false,
     "title": ""
    }
   },
   "outputs": [],
   "source": [
    "##We will try to read some file and then display in the RDD\n",
    "## /FileStore/tables/pySpark.txt\n",
    "\n",
    "from pyspark import SparkConf,SparkContext\n",
    "conf = SparkConf().setAppName(\"Read File\")\n",
    "sc = SparkContext.getOrCreate(conf=conf)"
   ]
  },
  {
   "cell_type": "code",
   "execution_count": 0,
   "metadata": {
    "application/vnd.databricks.v1+cell": {
     "inputWidgets": {},
     "nuid": "9951ddac-8f8c-4d44-a34b-5667c3a7666c",
     "showTitle": false,
     "title": ""
    }
   },
   "outputs": [
    {
     "data": {
      "text/plain": [
       "Out[13]: ['Name|Job', 'Ritesh|Data Scientist']"
      ]
     },
     "metadata": {
      "application/vnd.databricks.v1+output": {
       "addedWidgets": {},
       "arguments": {},
       "data": "Out[13]: ['Name|Job', 'Ritesh|Data Scientist']",
       "datasetInfos": [],
       "metadata": {},
       "removedWidgets": [],
       "type": "ansi"
      }
     },
     "output_type": "display_data"
    }
   ],
   "source": [
    "rdd = sc.textFile('/FileStore/tables/pySpark.txt')\n",
    "# rdd\n",
    "rdd.collect()"
   ]
  },
  {
   "cell_type": "code",
   "execution_count": 0,
   "metadata": {
    "application/vnd.databricks.v1+cell": {
     "inputWidgets": {},
     "nuid": "f8207054-4880-474e-9e6b-813a65137e77",
     "showTitle": false,
     "title": ""
    }
   },
   "outputs": [
    {
     "data": {
      "text/plain": [
       "Out[17]: [['Name', 'Job'], ['Ritesh', 'Data Scientist']]"
      ]
     },
     "metadata": {
      "application/vnd.databricks.v1+output": {
       "addedWidgets": {},
       "arguments": {},
       "data": "Out[17]: [['Name', 'Job'], ['Ritesh', 'Data Scientist']]",
       "datasetInfos": [],
       "metadata": {},
       "removedWidgets": [],
       "type": "ansi"
      }
     },
     "output_type": "display_data"
    }
   ],
   "source": [
    "rdd2 = rdd.map(lambda x : x.split('|'))\n",
    "rdd2 ## Just unlike jupyter notebook\n",
    "rdd2.collect()"
   ]
  },
  {
   "cell_type": "code",
   "execution_count": 0,
   "metadata": {
    "application/vnd.databricks.v1+cell": {
     "inputWidgets": {},
     "nuid": "046faaf3-3ba6-4611-836d-d2a55a6b8e05",
     "showTitle": false,
     "title": ""
    }
   },
   "outputs": [
    {
     "data": {
      "text/plain": [
       "Out[18]: ['Name|Job', 'Ritesh|Data Scientist']"
      ]
     },
     "metadata": {
      "application/vnd.databricks.v1+output": {
       "addedWidgets": {},
       "arguments": {},
       "data": "Out[18]: ['Name|Job', 'Ritesh|Data Scientist']",
       "datasetInfos": [],
       "metadata": {},
       "removedWidgets": [],
       "type": "ansi"
      }
     },
     "output_type": "display_data"
    }
   ],
   "source": [
    "rdd.collect()"
   ]
  },
  {
   "cell_type": "code",
   "execution_count": 0,
   "metadata": {
    "application/vnd.databricks.v1+cell": {
     "inputWidgets": {},
     "nuid": "735a13dd-f2e3-44c9-92b3-44fd6cb1dcd6",
     "showTitle": false,
     "title": ""
    }
   },
   "outputs": [
    {
     "data": {
      "text/plain": [
       "Out[22]: ['Name|Job|New Field', 'Ritesh|Data Scientist|New Field']"
      ]
     },
     "metadata": {
      "application/vnd.databricks.v1+output": {
       "addedWidgets": {},
       "arguments": {},
       "data": "Out[22]: ['Name|Job|New Field', 'Ritesh|Data Scientist|New Field']",
       "datasetInfos": [],
       "metadata": {},
       "removedWidgets": [],
       "type": "ansi"
      }
     },
     "output_type": "display_data"
    }
   ],
   "source": [
    "rdd3 = rdd.map(lambda x : x+\"|New Field\")\n",
    "rdd3.collect()"
   ]
  },
  {
   "cell_type": "code",
   "execution_count": 0,
   "metadata": {
    "application/vnd.databricks.v1+cell": {
     "inputWidgets": {},
     "nuid": "09e447df-2497-44c2-995b-86e6646daed2",
     "showTitle": false,
     "title": ""
    }
   },
   "outputs": [
    {
     "data": {
      "text/plain": [
       "Out[23]: [['Name', 'Job'], ['Ritesh', 'Data Scientist']]"
      ]
     },
     "metadata": {
      "application/vnd.databricks.v1+output": {
       "addedWidgets": {},
       "arguments": {},
       "data": "Out[23]: [['Name', 'Job'], ['Ritesh', 'Data Scientist']]",
       "datasetInfos": [],
       "metadata": {},
       "removedWidgets": [],
       "type": "ansi"
      }
     },
     "output_type": "display_data"
    }
   ],
   "source": [
    "def lmbda(x):\n",
    "    return x.split('|')\n",
    "\n",
    "rdd4 = rdd.map(lmbda)\n",
    "rdd4.collect()"
   ]
  },
  {
   "cell_type": "code",
   "execution_count": 0,
   "metadata": {
    "application/vnd.databricks.v1+cell": {
     "inputWidgets": {},
     "nuid": "79e257ae-3b4d-411d-acef-ce7545991399",
     "showTitle": false,
     "title": ""
    }
   },
   "outputs": [
    {
     "data": {
      "text/plain": [
       "Out[41]: ['Hi How are you?', 'Hope you are doing', 'great']"
      ]
     },
     "metadata": {
      "application/vnd.databricks.v1+output": {
       "addedWidgets": {},
       "arguments": {},
       "data": "Out[41]: ['Hi How are you?', 'Hope you are doing', 'great']",
       "datasetInfos": [],
       "metadata": {},
       "removedWidgets": [],
       "type": "ansi"
      }
     },
     "output_type": "display_data"
    }
   ],
   "source": [
    "rdd5 = sc.textFile('/FileStore/tables/Assignemnt1-1.txt')\n",
    "rdd5.collect()"
   ]
  },
  {
   "cell_type": "code",
   "execution_count": 0,
   "metadata": {
    "application/vnd.databricks.v1+cell": {
     "inputWidgets": {},
     "nuid": "bf8acea6-d19d-4f50-b900-c8683f606e8a",
     "showTitle": false,
     "title": ""
    }
   },
   "outputs": [
    {
     "data": {
      "text/plain": [
       "Out[42]: [[2, 3, 3, 4], [4, 3, 3, 5], [5]]"
      ]
     },
     "metadata": {
      "application/vnd.databricks.v1+output": {
       "addedWidgets": {},
       "arguments": {},
       "data": "Out[42]: [[2, 3, 3, 4], [4, 3, 3, 5], [5]]",
       "datasetInfos": [],
       "metadata": {},
       "removedWidgets": [],
       "type": "ansi"
      }
     },
     "output_type": "display_data"
    }
   ],
   "source": [
    "def len_of_words(x):\n",
    "    _list = x.split(' ')\n",
    "    len_list = []\n",
    "      for i in _list:\n",
    "        len_list.append(len(i))\n",
    "    return len_list\n",
    "  \n",
    "rdd6 = rdd5.map(len_of_words)\n",
    "rdd6.collect()"
   ]
  },
  {
   "cell_type": "code",
   "execution_count": 0,
   "metadata": {
    "application/vnd.databricks.v1+cell": {
     "inputWidgets": {},
     "nuid": "3e2bea38-1138-4038-88d9-bb35707700f1",
     "showTitle": false,
     "title": ""
    }
   },
   "outputs": [
    {
     "data": {
      "text/plain": [
       "Out[48]: ['this', 'mango', 'dog', 'mic', 'laptop', 'switch', 'mobile']"
      ]
     },
     "metadata": {
      "application/vnd.databricks.v1+output": {
       "addedWidgets": {},
       "arguments": {},
       "data": "Out[48]: ['this', 'mango', 'dog', 'mic', 'laptop', 'switch', 'mobile']",
       "datasetInfos": [],
       "metadata": {},
       "removedWidgets": [],
       "type": "ansi"
      }
     },
     "output_type": "display_data"
    }
   ],
   "source": [
    "rdd7 = sc.textFile('/FileStore/tables/Assignment_Filter.txt')\n",
    "rdd7.collect()\n",
    "rdd8 = rdd7.flatMap(lambda x : x.split(' '))\n",
    "#rdd8.collect()\n",
    "\n",
    "# def _filter(x):\n",
    "#   if x[0] not in ['c','a']:\n",
    "#     return x\n",
    "  \n",
    "# rdd9 = rdd8.filter(_filter)\n",
    "# rdd9.collect()"
   ]
  },
  {
   "cell_type": "code",
   "execution_count": 0,
   "metadata": {
    "application/vnd.databricks.v1+cell": {
     "inputWidgets": {},
     "nuid": "26a3b961-ec6f-4907-b4b2-2d5974629c86",
     "showTitle": false,
     "title": ""
    }
   },
   "outputs": [
    {
     "data": {
      "text/plain": [
       "Out[50]: ['this', 'mango', 'dog', 'mic', 'laptop', 'switch', 'mobile']"
      ]
     },
     "metadata": {
      "application/vnd.databricks.v1+output": {
       "addedWidgets": {},
       "arguments": {},
       "data": "Out[50]: ['this', 'mango', 'dog', 'mic', 'laptop', 'switch', 'mobile']",
       "datasetInfos": [],
       "metadata": {},
       "removedWidgets": [],
       "type": "ansi"
      }
     },
     "output_type": "display_data"
    }
   ],
   "source": [
    "rdd9 = rdd8.filter(lambda x: True if x[0] not in ['c','a'] else False)\n",
    "rdd9.collect()"
   ]
  },
  {
   "cell_type": "code",
   "execution_count": 0,
   "metadata": {
    "application/vnd.databricks.v1+cell": {
     "inputWidgets": {},
     "nuid": "05848139-7139-46bc-b69a-e20d081bd75f",
     "showTitle": false,
     "title": ""
    }
   },
   "outputs": [],
   "source": []
  }
 ],
 "metadata": {
  "application/vnd.databricks.v1+notebook": {
   "dashboards": [
    {
     "elements": [],
     "globalVars": {},
     "guid": "830bec0b-0e72-4389-ae30-9277506993d3",
     "layoutOption": {
      "grid": true,
      "stack": true
     },
     "nuid": "5eed6e6f-a169-4a0e-a7cc-175898a0595f",
     "origId": 3620038448183726,
     "title": "Untitled",
     "version": "DashboardViewV1",
     "width": 1024
    }
   ],
   "language": "python",
   "notebookMetadata": {
    "pythonIndentUnit": 2
   },
   "notebookName": "pySpark Project",
   "notebookOrigID": 1850584179252386,
   "widgets": {}
  },
  "kernelspec": {
   "display_name": "Python 3 (ipykernel)",
   "language": "python",
   "name": "python3"
  },
  "language_info": {
   "codemirror_mode": {
    "name": "ipython",
    "version": 3
   },
   "file_extension": ".py",
   "mimetype": "text/x-python",
   "name": "python",
   "nbconvert_exporter": "python",
   "pygments_lexer": "ipython3",
   "version": "3.9.7"
  }
 },
 "nbformat": 4,
 "nbformat_minor": 1
}
